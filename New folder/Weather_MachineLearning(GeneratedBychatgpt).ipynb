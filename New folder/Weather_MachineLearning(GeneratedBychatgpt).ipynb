{
 "cells": [
  {
   "cell_type": "code",
   "execution_count": 1,
   "id": "b97215d7",
   "metadata": {},
   "outputs": [
    {
     "name": "stderr",
     "output_type": "stream",
     "text": [
      "C:\\Users\\USER-PC\\anaconda3\\lib\\site-packages\\statsmodels\\tsa\\base\\tsa_model.py:471: ValueWarning: A date index has been provided, but it has no associated frequency information and so will be ignored when e.g. forecasting.\n",
      "  self._init_dates(dates, freq)\n",
      "C:\\Users\\USER-PC\\AppData\\Local\\Temp\\ipykernel_3268\\1080159121.py:30: FutureWarning: Argument `closed` is deprecated in favor of `inclusive`.\n",
      "  forecasted_df = pd.DataFrame(forecasted_values, columns=data.columns, index=pd.date_range(start=data.index[-1], periods=forecast_periods+1, closed='right'))\n"
     ]
    },
    {
     "name": "stdout",
     "output_type": "stream",
     "text": [
      "Forecasted Values:\n",
      "                     Temperature      Pressure  Humidnity        IAQ\n",
      "2023-10-11 16:59:00    39.694312  99927.693307  47.247345  96.987077\n",
      "2023-10-12 16:59:00    39.649982  99923.831972  47.388258  96.912070\n",
      "2023-10-13 16:59:00    39.593676  99919.687931  47.532455  96.849721\n",
      "2023-10-14 16:59:00    39.551711  99915.586274  47.622888  96.814577\n",
      "2023-10-15 16:59:00    39.513087  99911.566344  47.705942  96.780344\n",
      "2023-10-16 16:59:00    39.474839  99907.552628  47.791303  96.744178\n",
      "2023-10-17 16:59:00    39.438229  99903.536072  47.871773  96.710410\n"
     ]
    },
    {
     "data": {
      "image/png": "[encoded data removed]",
      "text/plain": [
       "<Figure size 640x480 with 1 Axes>"
      ]
     },
     "metadata": {},
     "output_type": "display_data"
    }
   ],
   "source": [
    "# Step 1: Import necessary libraries\n",
    "import pandas as pd\n",
    "import numpy as np\n",
    "from statsmodels.tsa.api import VAR\n",
    "import matplotlib.pyplot as plt\n",
    "\n",
    "# Step 2: Load the dataset\n",
    "data = pd.read_csv(\"iaq_middle5.csv\")\n",
    "data['Time'] = pd.to_datetime(data['Time'])\n",
    "data.asfreq('h')\n",
    "data.set_index('Time', inplace=True)\n",
    "\n",
    "# Step 3: Preprocess the data if needed\n",
    "# You may need to handle missing values or resample the data\n",
    "\n",
    "# Step 4: Fit a VAR model\n",
    "model = VAR(data)\n",
    "\n",
    "# Specify the lag order for the VAR model (you can choose the appropriate order)\n",
    "lag_order = 2\n",
    "model_fitted = model.fit(lag_order)\n",
    "\n",
    "# Step 5: Specify the number of periods to forecast\n",
    "forecast_periods = 7  # Adjust the number of periods you want to forecast\n",
    "\n",
    "# Step 6: Use the VAR model to make forecasts\n",
    "forecasted_values = model_fitted.forecast(data.values[-lag_order:], steps=forecast_periods)\n",
    "\n",
    "# Step 7: Visualize the forecasted values\n",
    "forecasted_df = pd.DataFrame(forecasted_values, columns=data.columns, index=pd.date_range(start=data.index[-1], periods=forecast_periods+1, closed='right'))\n",
    "\n",
    "# Print or plot the forecasted values\n",
    "print(\"Forecasted Values:\")\n",
    "print(forecasted_df)\n",
    "\n",
    "# You can also plot the forecasted values\n",
    "forecasted_df[['Temperature', 'Humidnity', 'IAQ', 'Pressure']].plot()\n",
    "plt.title('VAR Model Forecast')\n",
    "plt.show()\n"
   ]
  },
  {
   "cell_type": "code",
   "execution_count": 3,
   "id": "02c8fb0c",
   "metadata": {},
   "outputs": [
    {
     "data": {
      "text/html": [
       "<div>\n",
       "<style scoped>\n",
       "    .dataframe tbody tr th:only-of-type {\n",
       "        vertical-align: middle;\n",
       "    }\n",
       "\n",
       "    .dataframe tbody tr th {\n",
       "        vertical-align: top;\n",
       "    }\n",
       "\n",
       "    .dataframe thead th {\n",
       "        text-align: right;\n",
       "    }\n",
       "</style>\n",
       "<table border=\"1\" class=\"dataframe\">\n",
       "  <thead>\n",
       "    <tr style=\"text-align: right;\">\n",
       "      <th></th>\n",
       "      <th>Temperature</th>\n",
       "      <th>Pressure</th>\n",
       "      <th>Humidnity</th>\n",
       "      <th>IAQ</th>\n",
       "    </tr>\n",
       "    <tr>\n",
       "      <th>Time</th>\n",
       "      <th></th>\n",
       "      <th></th>\n",
       "      <th></th>\n",
       "      <th></th>\n",
       "    </tr>\n",
       "  </thead>\n",
       "  <tbody>\n",
       "    <tr>\n",
       "      <th>2023-09-10 08:05:00</th>\n",
       "      <td>33.17</td>\n",
       "      <td>100465</td>\n",
       "      <td>73.09</td>\n",
       "      <td>85.97</td>\n",
       "    </tr>\n",
       "    <tr>\n",
       "      <th>2023-09-10 08:06:00</th>\n",
       "      <td>34.13</td>\n",
       "      <td>100461</td>\n",
       "      <td>67.54</td>\n",
       "      <td>88.52</td>\n",
       "    </tr>\n",
       "    <tr>\n",
       "      <th>2023-09-10 08:07:00</th>\n",
       "      <td>34.63</td>\n",
       "      <td>100461</td>\n",
       "      <td>66.44</td>\n",
       "      <td>88.85</td>\n",
       "    </tr>\n",
       "    <tr>\n",
       "      <th>2023-09-10 08:08:00</th>\n",
       "      <td>34.36</td>\n",
       "      <td>100466</td>\n",
       "      <td>66.50</td>\n",
       "      <td>88.96</td>\n",
       "    </tr>\n",
       "    <tr>\n",
       "      <th>2023-09-10 08:09:00</th>\n",
       "      <td>34.49</td>\n",
       "      <td>100464</td>\n",
       "      <td>66.16</td>\n",
       "      <td>89.11</td>\n",
       "    </tr>\n",
       "  </tbody>\n",
       "</table>\n",
       "</div>"
      ],
      "text/plain": [
       "                     Temperature  Pressure  Humidnity    IAQ\n",
       "Time                                                        \n",
       "2023-09-10 08:05:00        33.17    100465      73.09  85.97\n",
       "2023-09-10 08:06:00        34.13    100461      67.54  88.52\n",
       "2023-09-10 08:07:00        34.63    100461      66.44  88.85\n",
       "2023-09-10 08:08:00        34.36    100466      66.50  88.96\n",
       "2023-09-10 08:09:00        34.49    100464      66.16  89.11"
      ]
     },
     "execution_count": 3,
     "metadata": {},
     "output_type": "execute_result"
    }
   ],
   "source": [
    "data.head()"
   ]
  },
  {
   "cell_type": "code",
   "execution_count": 24,
   "id": "7d5abdfa",
   "metadata": {
    "scrolled": true
   },
   "outputs": [
    {
     "data": {
      "text/plain": [
       "array([[3.31000e+01, 1.00465e+05, 7.46800e+01, 6.08100e+01],\n",
       "       [3.31700e+01, 1.00465e+05, 7.30900e+01, 8.59700e+01],\n",
       "       [3.33600e+01, 1.00465e+05, 7.22200e+01, 8.64200e+01],\n",
       "       ...,\n",
       "       [3.68000e+01, 1.00051e+05, 5.47300e+01, 9.38700e+01],\n",
       "       [3.68300e+01, 1.00050e+05, 5.48100e+01, 9.38100e+01],\n",
       "       [3.68700e+01, 1.00050e+05, 5.49200e+01, 9.38300e+01]])"
      ]
     },
     "execution_count": 24,
     "metadata": {},
     "output_type": "execute_result"
    }
   ],
   "source": [
    "np.asarray(data)"
   ]
  },
  {
   "cell_type": "code",
   "execution_count": 12,
   "id": "3c351bfd",
   "metadata": {},
   "outputs": [
    {
     "name": "stdout",
     "output_type": "stream",
     "text": [
      "['09-Oct-2023 08:05:08' '09-Oct-2023 08:05:11' '09-Oct-2023 08:05:15' ...\n",
      " '09-Oct-2023 16:42:26' '09-Oct-2023 16:42:29' '09-Oct-2023 16:42:33']\n"
     ]
    }
   ],
   "source": [
    "print(data['dnt'].unique())"
   ]
  },
  {
   "cell_type": "code",
   "execution_count": null,
   "id": "f182ae1a",
   "metadata": {},
   "outputs": [],
   "source": []
  }
 ],
 "metadata": {
  "kernelspec": {
   "display_name": "Python 3 (ipykernel)",
   "language": "python",
   "name": "python3"
  },
  "language_info": {
   "codemirror_mode": {
    "name": "ipython",
    "version": 3
   },
   "file_extension": ".py",
   "mimetype": "text/x-python",
   "name": "python",
   "nbconvert_exporter": "python",
   "pygments_lexer": "ipython3",
   "version": "3.10.9"
  }
 },
 "nbformat": 4,
 "nbformat_minor": 5
}
