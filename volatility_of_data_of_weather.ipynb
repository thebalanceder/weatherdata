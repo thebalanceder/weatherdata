{
 "cells": [
  {
   "cell_type": "code",
   "execution_count": 2,
   "id": "52b8882d",
   "metadata": {},
   "outputs": [
    {
     "name": "stdout",
     "output_type": "stream",
     "text": [
      "Collecting arch\n",
      "  Downloading arch-6.2.0-cp310-cp310-win_amd64.whl (922 kB)\n",
      "     -------------------------------------- 922.8/922.8 kB 1.7 MB/s eta 0:00:00\n",
      "Requirement already satisfied: scipy>=1.5 in c:\\users\\user-pc\\anaconda3\\lib\\site-packages (from arch) (1.10.0)\n",
      "Requirement already satisfied: pandas>=1.1 in c:\\users\\user-pc\\anaconda3\\lib\\site-packages (from arch) (1.5.3)\n",
      "Requirement already satisfied: numpy>=1.19 in c:\\users\\user-pc\\anaconda3\\lib\\site-packages (from arch) (1.23.5)\n",
      "Requirement already satisfied: statsmodels>=0.12 in c:\\users\\user-pc\\anaconda3\\lib\\site-packages (from arch) (0.13.5)\n",
      "Requirement already satisfied: python-dateutil>=2.8.1 in c:\\users\\user-pc\\anaconda3\\lib\\site-packages (from pandas>=1.1->arch) (2.8.2)\n",
      "Requirement already satisfied: pytz>=2020.1 in c:\\users\\user-pc\\anaconda3\\lib\\site-packages (from pandas>=1.1->arch) (2022.7)\n",
      "Requirement already satisfied: packaging>=21.3 in c:\\users\\user-pc\\anaconda3\\lib\\site-packages (from statsmodels>=0.12->arch) (22.0)\n",
      "Requirement already satisfied: patsy>=0.5.2 in c:\\users\\user-pc\\anaconda3\\lib\\site-packages (from statsmodels>=0.12->arch) (0.5.3)\n",
      "Requirement already satisfied: six in c:\\users\\user-pc\\anaconda3\\lib\\site-packages (from patsy>=0.5.2->statsmodels>=0.12->arch) (1.16.0)\n",
      "Installing collected packages: arch\n",
      "Successfully installed arch-6.2.0\n"
     ]
    }
   ],
   "source": [
    "!pip install arch"
   ]
  },
  {
   "cell_type": "code",
   "execution_count": 3,
   "id": "6d061e77",
   "metadata": {},
   "outputs": [],
   "source": [
    "import pandas as pd\n",
    "from arch import arch_model\n",
    "import matplotlib.pyplot as plt"
   ]
  },
  {
   "cell_type": "code",
   "execution_count": 5,
   "id": "6730b8b6",
   "metadata": {},
   "outputs": [],
   "source": [
    "df1=pd.read_csv(\"iaq_middle5.csv\")\n",
    "df1[\"TempeChange\"]=df1.Temp.pct_change(1).mul(100)\n",
    "df1=df1.iloc[1:]"
   ]
  },
  {
   "cell_type": "code",
   "execution_count": 6,
   "id": "419eeaa5",
   "metadata": {
    "scrolled": true
   },
   "outputs": [
    {
     "data": {
      "text/html": [
       "<div>\n",
       "<style scoped>\n",
       "    .dataframe tbody tr th:only-of-type {\n",
       "        vertical-align: middle;\n",
       "    }\n",
       "\n",
       "    .dataframe tbody tr th {\n",
       "        vertical-align: top;\n",
       "    }\n",
       "\n",
       "    .dataframe thead th {\n",
       "        text-align: right;\n",
       "    }\n",
       "</style>\n",
       "<table border=\"1\" class=\"dataframe\">\n",
       "  <thead>\n",
       "    <tr style=\"text-align: right;\">\n",
       "      <th></th>\n",
       "      <th>Time</th>\n",
       "      <th>Temp</th>\n",
       "      <th>Pressure</th>\n",
       "      <th>Humidnity</th>\n",
       "      <th>IAQ</th>\n",
       "      <th>TempeChange</th>\n",
       "    </tr>\n",
       "  </thead>\n",
       "  <tbody>\n",
       "    <tr>\n",
       "      <th>1</th>\n",
       "      <td>14/10/2023 20:05</td>\n",
       "      <td>33.71</td>\n",
       "      <td>100177</td>\n",
       "      <td>66.11</td>\n",
       "      <td>89.11</td>\n",
       "      <td>0.029674</td>\n",
       "    </tr>\n",
       "    <tr>\n",
       "      <th>2</th>\n",
       "      <td>14/10/2023 20:06</td>\n",
       "      <td>33.86</td>\n",
       "      <td>100180</td>\n",
       "      <td>65.20</td>\n",
       "      <td>89.51</td>\n",
       "      <td>0.444972</td>\n",
       "    </tr>\n",
       "    <tr>\n",
       "      <th>3</th>\n",
       "      <td>14/10/2023 20:07</td>\n",
       "      <td>34.22</td>\n",
       "      <td>100181</td>\n",
       "      <td>64.18</td>\n",
       "      <td>89.94</td>\n",
       "      <td>1.063201</td>\n",
       "    </tr>\n",
       "    <tr>\n",
       "      <th>4</th>\n",
       "      <td>14/10/2023 20:08</td>\n",
       "      <td>34.82</td>\n",
       "      <td>100182</td>\n",
       "      <td>62.90</td>\n",
       "      <td>90.36</td>\n",
       "      <td>1.753361</td>\n",
       "    </tr>\n",
       "    <tr>\n",
       "      <th>5</th>\n",
       "      <td>14/10/2023 20:09</td>\n",
       "      <td>34.91</td>\n",
       "      <td>100183</td>\n",
       "      <td>62.28</td>\n",
       "      <td>90.74</td>\n",
       "      <td>0.258472</td>\n",
       "    </tr>\n",
       "  </tbody>\n",
       "</table>\n",
       "</div>"
      ],
      "text/plain": [
       "               Time   Temp  Pressure  Humidnity    IAQ  TempeChange\n",
       "1  14/10/2023 20:05  33.71    100177      66.11  89.11     0.029674\n",
       "2  14/10/2023 20:06  33.86    100180      65.20  89.51     0.444972\n",
       "3  14/10/2023 20:07  34.22    100181      64.18  89.94     1.063201\n",
       "4  14/10/2023 20:08  34.82    100182      62.90  90.36     1.753361\n",
       "5  14/10/2023 20:09  34.91    100183      62.28  90.74     0.258472"
      ]
     },
     "execution_count": 6,
     "metadata": {},
     "output_type": "execute_result"
    }
   ],
   "source": [
    "#df1.Time=pd.to_datetime(df1.Time,dayfirst=\"True\")\n",
    "#df1.set_index(\"Time\",inplace=True)\n",
    "#df1.asfreq('h')\n",
    "df1.head()"
   ]
  },
  {
   "cell_type": "code",
   "execution_count": 7,
   "id": "821967e3",
   "metadata": {},
   "outputs": [
    {
     "data": {
      "text/html": [
       "<div>\n",
       "<style scoped>\n",
       "    .dataframe tbody tr th:only-of-type {\n",
       "        vertical-align: middle;\n",
       "    }\n",
       "\n",
       "    .dataframe tbody tr th {\n",
       "        vertical-align: top;\n",
       "    }\n",
       "\n",
       "    .dataframe thead th {\n",
       "        text-align: right;\n",
       "    }\n",
       "</style>\n",
       "<table border=\"1\" class=\"dataframe\">\n",
       "  <thead>\n",
       "    <tr style=\"text-align: right;\">\n",
       "      <th></th>\n",
       "      <th>Time</th>\n",
       "      <th>Temp</th>\n",
       "      <th>Pressure</th>\n",
       "      <th>Humidnity</th>\n",
       "      <th>IAQ</th>\n",
       "      <th>TempeChange</th>\n",
       "    </tr>\n",
       "  </thead>\n",
       "  <tbody>\n",
       "    <tr>\n",
       "      <th>1</th>\n",
       "      <td>14/10/2023 20:05</td>\n",
       "      <td>33.71</td>\n",
       "      <td>100177</td>\n",
       "      <td>66.11</td>\n",
       "      <td>89.11</td>\n",
       "      <td>0.029674</td>\n",
       "    </tr>\n",
       "    <tr>\n",
       "      <th>2</th>\n",
       "      <td>14/10/2023 20:06</td>\n",
       "      <td>33.86</td>\n",
       "      <td>100180</td>\n",
       "      <td>65.20</td>\n",
       "      <td>89.51</td>\n",
       "      <td>0.444972</td>\n",
       "    </tr>\n",
       "    <tr>\n",
       "      <th>3</th>\n",
       "      <td>14/10/2023 20:07</td>\n",
       "      <td>34.22</td>\n",
       "      <td>100181</td>\n",
       "      <td>64.18</td>\n",
       "      <td>89.94</td>\n",
       "      <td>1.063201</td>\n",
       "    </tr>\n",
       "    <tr>\n",
       "      <th>4</th>\n",
       "      <td>14/10/2023 20:08</td>\n",
       "      <td>34.82</td>\n",
       "      <td>100182</td>\n",
       "      <td>62.90</td>\n",
       "      <td>90.36</td>\n",
       "      <td>1.753361</td>\n",
       "    </tr>\n",
       "    <tr>\n",
       "      <th>5</th>\n",
       "      <td>14/10/2023 20:09</td>\n",
       "      <td>34.91</td>\n",
       "      <td>100183</td>\n",
       "      <td>62.28</td>\n",
       "      <td>90.74</td>\n",
       "      <td>0.258472</td>\n",
       "    </tr>\n",
       "  </tbody>\n",
       "</table>\n",
       "</div>"
      ],
      "text/plain": [
       "               Time   Temp  Pressure  Humidnity    IAQ  TempeChange\n",
       "1  14/10/2023 20:05  33.71    100177      66.11  89.11     0.029674\n",
       "2  14/10/2023 20:06  33.86    100180      65.20  89.51     0.444972\n",
       "3  14/10/2023 20:07  34.22    100181      64.18  89.94     1.063201\n",
       "4  14/10/2023 20:08  34.82    100182      62.90  90.36     1.753361\n",
       "5  14/10/2023 20:09  34.91    100183      62.28  90.74     0.258472"
      ]
     },
     "execution_count": 7,
     "metadata": {},
     "output_type": "execute_result"
    }
   ],
   "source": [
    "df1.head()"
   ]
  },
  {
   "cell_type": "code",
   "execution_count": 8,
   "id": "49b9f6e1",
   "metadata": {},
   "outputs": [
    {
     "data": {
      "text/html": [
       "<div>\n",
       "<style scoped>\n",
       "    .dataframe tbody tr th:only-of-type {\n",
       "        vertical-align: middle;\n",
       "    }\n",
       "\n",
       "    .dataframe tbody tr th {\n",
       "        vertical-align: top;\n",
       "    }\n",
       "\n",
       "    .dataframe thead th {\n",
       "        text-align: right;\n",
       "    }\n",
       "</style>\n",
       "<table border=\"1\" class=\"dataframe\">\n",
       "  <thead>\n",
       "    <tr style=\"text-align: right;\">\n",
       "      <th></th>\n",
       "      <th>Time</th>\n",
       "      <th>Temp</th>\n",
       "      <th>Pressure</th>\n",
       "      <th>Humidnity</th>\n",
       "      <th>IAQ</th>\n",
       "      <th>TempeChange</th>\n",
       "    </tr>\n",
       "  </thead>\n",
       "  <tbody>\n",
       "    <tr>\n",
       "      <th>1398</th>\n",
       "      <td>15/10/2023 19:22</td>\n",
       "      <td>33.83</td>\n",
       "      <td>100108</td>\n",
       "      <td>56.53</td>\n",
       "      <td>93.13</td>\n",
       "      <td>0.296472</td>\n",
       "    </tr>\n",
       "    <tr>\n",
       "      <th>1399</th>\n",
       "      <td>15/10/2023 19:23</td>\n",
       "      <td>34.13</td>\n",
       "      <td>100109</td>\n",
       "      <td>56.16</td>\n",
       "      <td>93.25</td>\n",
       "      <td>0.886787</td>\n",
       "    </tr>\n",
       "    <tr>\n",
       "      <th>1400</th>\n",
       "      <td>15/10/2023 19:24</td>\n",
       "      <td>34.16</td>\n",
       "      <td>100111</td>\n",
       "      <td>55.81</td>\n",
       "      <td>93.45</td>\n",
       "      <td>0.087899</td>\n",
       "    </tr>\n",
       "    <tr>\n",
       "      <th>1401</th>\n",
       "      <td>15/10/2023 19:25</td>\n",
       "      <td>34.18</td>\n",
       "      <td>100114</td>\n",
       "      <td>56.22</td>\n",
       "      <td>93.24</td>\n",
       "      <td>0.058548</td>\n",
       "    </tr>\n",
       "    <tr>\n",
       "      <th>1402</th>\n",
       "      <td>15/10/2023 19:26</td>\n",
       "      <td>33.86</td>\n",
       "      <td>100118</td>\n",
       "      <td>56.72</td>\n",
       "      <td>93.07</td>\n",
       "      <td>-0.936220</td>\n",
       "    </tr>\n",
       "  </tbody>\n",
       "</table>\n",
       "</div>"
      ],
      "text/plain": [
       "                  Time   Temp  Pressure  Humidnity    IAQ  TempeChange\n",
       "1398  15/10/2023 19:22  33.83    100108      56.53  93.13     0.296472\n",
       "1399  15/10/2023 19:23  34.13    100109      56.16  93.25     0.886787\n",
       "1400  15/10/2023 19:24  34.16    100111      55.81  93.45     0.087899\n",
       "1401  15/10/2023 19:25  34.18    100114      56.22  93.24     0.058548\n",
       "1402  15/10/2023 19:26  33.86    100118      56.72  93.07    -0.936220"
      ]
     },
     "execution_count": 8,
     "metadata": {},
     "output_type": "execute_result"
    }
   ],
   "source": [
    "df1.tail()"
   ]
  },
  {
   "cell_type": "code",
   "execution_count": 9,
   "id": "ba21f00e",
   "metadata": {
    "scrolled": true
   },
   "outputs": [
    {
     "name": "stdout",
     "output_type": "stream",
     "text": [
      "Iteration:     10,   Func. Count:     61,   Neg. LLF: 1641.02329367204\n",
      "Optimization terminated successfully    (Exit mode 0)\n",
      "            Current function value: 1641.02329367204\n",
      "            Iterations: 11\n",
      "            Function evaluations: 65\n",
      "            Gradient evaluations: 11\n"
     ]
    }
   ],
   "source": [
    "mod_garch=arch_model(df1.TempeChange,vol=\"GARCH\",p=1,q=1,mean=\"constant\",dist=\"Normal\")\n",
    "result=mod_garch.fit(update_freq=10)\n"
   ]
  },
  {
   "cell_type": "code",
   "execution_count": 10,
   "id": "f68b2d35",
   "metadata": {
    "scrolled": true
   },
   "outputs": [
    {
     "data": {
      "text/html": [
       "<table class=\"simpletable\">\n",
       "<caption>Constant Mean - GARCH Model Results</caption>\n",
       "<tr>\n",
       "  <th>Dep. Variable:</th>     <td>TempeChange</td>    <th>  R-squared:         </th>  <td>   0.000</td> \n",
       "</tr>\n",
       "<tr>\n",
       "  <th>Mean Model:</th>       <td>Constant Mean</td>   <th>  Adj. R-squared:    </th>  <td>   0.000</td> \n",
       "</tr>\n",
       "<tr>\n",
       "  <th>Vol Model:</th>            <td>GARCH</td>       <th>  Log-Likelihood:    </th> <td>  -1641.02</td>\n",
       "</tr>\n",
       "<tr>\n",
       "  <th>Distribution:</th>        <td>Normal</td>       <th>  AIC:               </th> <td>   3290.05</td>\n",
       "</tr>\n",
       "<tr>\n",
       "  <th>Method:</th>        <td>Maximum Likelihood</td> <th>  BIC:               </th> <td>   3311.03</td>\n",
       "</tr>\n",
       "<tr>\n",
       "  <th></th>                        <td></td>          <th>  No. Observations:  </th>    <td>1402</td>   \n",
       "</tr>\n",
       "<tr>\n",
       "  <th>Date:</th>           <td>Sun, Oct 15 2023</td>  <th>  Df Residuals:      </th>    <td>1401</td>   \n",
       "</tr>\n",
       "<tr>\n",
       "  <th>Time:</th>               <td>21:44:38</td>      <th>  Df Model:          </th>      <td>1</td>    \n",
       "</tr>\n",
       "</table>\n",
       "<table class=\"simpletable\">\n",
       "<caption>Mean Model</caption>\n",
       "<tr>\n",
       "   <td></td>     <th>coef</th>     <th>std err</th>      <th>t</th>       <th>P>|t|</th>      <th>95.0% Conf. Int.</th>   \n",
       "</tr>\n",
       "<tr>\n",
       "  <th>mu</th> <td>2.7342e-03</td> <td>1.933e-02</td> <td>    0.141</td> <td>    0.888</td> <td>[-3.516e-02,4.063e-02]</td>\n",
       "</tr>\n",
       "</table>\n",
       "<table class=\"simpletable\">\n",
       "<caption>Volatility Model</caption>\n",
       "<tr>\n",
       "      <td></td>        <th>coef</th>     <th>std err</th>      <th>t</th>       <th>P>|t|</th>   <th>95.0% Conf. Int.</th> \n",
       "</tr>\n",
       "<tr>\n",
       "  <th>omega</th>    <td>    0.0528</td> <td>    0.159</td> <td>    0.332</td> <td>    0.740</td> <td>[ -0.259,  0.365]</td>\n",
       "</tr>\n",
       "<tr>\n",
       "  <th>alpha[1]</th> <td>    0.0667</td> <td>    0.118</td> <td>    0.566</td> <td>    0.572</td> <td>[ -0.164,  0.298]</td>\n",
       "</tr>\n",
       "<tr>\n",
       "  <th>beta[1]</th>  <td>    0.8486</td> <td>    0.371</td> <td>    2.288</td> <td>2.214e-02</td> <td>[  0.122,  1.576]</td>\n",
       "</tr>\n",
       "</table><br/><br/>Covariance estimator: robust"
      ],
      "text/plain": [
       "<class 'statsmodels.iolib.summary.Summary'>\n",
       "\"\"\"\n",
       "                     Constant Mean - GARCH Model Results                      \n",
       "==============================================================================\n",
       "Dep. Variable:            TempeChange   R-squared:                       0.000\n",
       "Mean Model:             Constant Mean   Adj. R-squared:                  0.000\n",
       "Vol Model:                      GARCH   Log-Likelihood:               -1641.02\n",
       "Distribution:                  Normal   AIC:                           3290.05\n",
       "Method:            Maximum Likelihood   BIC:                           3311.03\n",
       "                                        No. Observations:                 1402\n",
       "Date:                Sun, Oct 15 2023   Df Residuals:                     1401\n",
       "Time:                        21:44:38   Df Model:                            1\n",
       "                                  Mean Model                                 \n",
       "=============================================================================\n",
       "                 coef    std err          t      P>|t|       95.0% Conf. Int.\n",
       "-----------------------------------------------------------------------------\n",
       "mu         2.7342e-03  1.933e-02      0.141      0.888 [-3.516e-02,4.063e-02]\n",
       "                            Volatility Model                            \n",
       "========================================================================\n",
       "                 coef    std err          t      P>|t|  95.0% Conf. Int.\n",
       "------------------------------------------------------------------------\n",
       "omega          0.0528      0.159      0.332      0.740 [ -0.259,  0.365]\n",
       "alpha[1]       0.0667      0.118      0.566      0.572 [ -0.164,  0.298]\n",
       "beta[1]        0.8486      0.371      2.288  2.214e-02 [  0.122,  1.576]\n",
       "========================================================================\n",
       "\n",
       "Covariance estimator: robust\n",
       "\"\"\""
      ]
     },
     "execution_count": 10,
     "metadata": {},
     "output_type": "execute_result"
    }
   ],
   "source": [
    "result.summary()"
   ]
  },
  {
   "cell_type": "code",
   "execution_count": 11,
   "id": "9a308d85",
   "metadata": {},
   "outputs": [
    {
     "data": {
      "image/png": "[encoded data removed]",
      "text/plain": [
       "<Figure size 640x480 with 2 Axes>"
      ]
     },
     "metadata": {},
     "output_type": "display_data"
    }
   ],
   "source": [
    "result.plot()\n",
    "plt.show()"
   ]
  },
  {
   "cell_type": "code",
   "execution_count": null,
   "id": "32858cb9",
   "metadata": {},
   "outputs": [],
   "source": []
  }
 ],
 "metadata": {
  "kernelspec": {
   "display_name": "Python 3 (ipykernel)",
   "language": "python",
   "name": "python3"
  },
  "language_info": {
   "codemirror_mode": {
    "name": "ipython",
    "version": 3
   },
   "file_extension": ".py",
   "mimetype": "text/x-python",
   "name": "python",
   "nbconvert_exporter": "python",
   "pygments_lexer": "ipython3",
   "version": "3.10.9"
  }
 },
 "nbformat": 4,
 "nbformat_minor": 5
}
